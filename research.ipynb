{
 "cells": [
  {
   "cell_type": "code",
   "execution_count": null,
   "metadata": {},
   "outputs": [
    {
     "name": "stdout",
     "output_type": "stream",
     "text": [
      "Requirement already satisfied: pytubefix in /opt/anaconda3/lib/python3.12/site-packages (8.3.2)\n",
      "Requirement already satisfied: pip in /Library/Frameworks/Python.framework/Versions/3.12/lib/python3.12/site-packages (24.3.1)\n"
     ]
    }
   ],
   "source": [
    "!pip install yt-dlp\n",
    "!python3 -m pip install --upgrade pip\n",
    "import os\n",
    "import requests\n",
    "from pytubefix import YouTube\n",
    "from pytubefix.innertube import _default_clients\n",
    "_default_clients[\"ANDROID_MUSIC\"] = _default_clients[\"WEB\"]"
   ]
  },
  {
   "cell_type": "code",
   "execution_count": 15,
   "metadata": {},
   "outputs": [],
   "source": [
    "def upload_file(bucket_name, file_path):\n",
    "    api_host = \"http://ec2-18-234-78-89.compute-1.amazonaws.com:5000\"\n",
    "    api = f\"/api/v1/s3/{bucket_name}/file\"\n",
    "    url = api_host + api\n",
    "\n",
    "    try:\n",
    "        with open(file_path, 'rb') as file:\n",
    "            files = {'file': file}\n",
    "            response = requests.post(url, files=files)\n",
    "            response.raise_for_status()  # Raise an error for bad responses\n",
    "            return response\n",
    "    except requests.exceptions.RequestException as e:\n",
    "        print(f\"An error occurred during file upload: {e}\")\n",
    "        return None"
   ]
  },
  {
   "cell_type": "code",
   "execution_count": 16,
   "metadata": {},
   "outputs": [
    {
     "ename": "NameError",
     "evalue": "name 'yt_dlp' is not defined",
     "output_type": "error",
     "traceback": [
      "\u001b[0;31m---------------------------------------------------------------------------\u001b[0m",
      "\u001b[0;31mNameError\u001b[0m                                 Traceback (most recent call last)",
      "Cell \u001b[0;32mIn[16], line 21\u001b[0m\n\u001b[1;32m     18\u001b[0m         \u001b[38;5;28;01mreturn\u001b[39;00m os\u001b[38;5;241m.\u001b[39mpath\u001b[38;5;241m.\u001b[39mjoin(output_dir,\u001b[38;5;124m'\u001b[39m\u001b[38;5;124mtest.mp3\u001b[39m\u001b[38;5;124m'\u001b[39m)\n\u001b[1;32m     20\u001b[0m url \u001b[38;5;241m=\u001b[39m \u001b[38;5;124m\"\u001b[39m\u001b[38;5;124mhttps://www.youtube.com/watch?v=00x0S4jhsPo\u001b[39m\u001b[38;5;124m\"\u001b[39m\n\u001b[0;32m---> 21\u001b[0m downloaded_dir \u001b[38;5;241m=\u001b[39m \u001b[43mdownload_mp3_v2\u001b[49m\u001b[43m(\u001b[49m\u001b[43murl\u001b[49m\u001b[43m)\u001b[49m\n",
      "Cell \u001b[0;32mIn[13], line 18\u001b[0m, in \u001b[0;36mdownload_mp3_v2\u001b[0;34m(url)\u001b[0m\n\u001b[1;32m      6\u001b[0m output_dir \u001b[38;5;241m=\u001b[39m os\u001b[38;5;241m.\u001b[39mpath\u001b[38;5;241m.\u001b[39mjoin(curr_dir,\u001b[38;5;124m\"\u001b[39m\u001b[38;5;124mtmp\u001b[39m\u001b[38;5;124m\"\u001b[39m)\n\u001b[1;32m      7\u001b[0m ydl_opts \u001b[38;5;241m=\u001b[39m {\n\u001b[1;32m      8\u001b[0m     \u001b[38;5;124m'\u001b[39m\u001b[38;5;124mformat\u001b[39m\u001b[38;5;124m'\u001b[39m: \u001b[38;5;124m'\u001b[39m\u001b[38;5;124mbestaudio/best\u001b[39m\u001b[38;5;124m'\u001b[39m,\n\u001b[1;32m      9\u001b[0m     \u001b[38;5;124m'\u001b[39m\u001b[38;5;124mouttmpl\u001b[39m\u001b[38;5;124m'\u001b[39m: os\u001b[38;5;241m.\u001b[39mpath\u001b[38;5;241m.\u001b[39mjoin(output_dir,\u001b[38;5;124m'\u001b[39m\u001b[38;5;124mtest.\u001b[39m\u001b[38;5;132;01m%(ext)s\u001b[39;00m\u001b[38;5;124m'\u001b[39m),\n\u001b[0;32m   (...)\u001b[0m\n\u001b[1;32m     15\u001b[0m     \n\u001b[1;32m     16\u001b[0m }\n\u001b[0;32m---> 18\u001b[0m \u001b[38;5;28;01mwith\u001b[39;00m \u001b[43myt_dlp\u001b[49m\u001b[38;5;241m.\u001b[39mYoutubeDL(ydl_opts) \u001b[38;5;28;01mas\u001b[39;00m ydl:\n\u001b[1;32m     19\u001b[0m     res \u001b[38;5;241m=\u001b[39m ydl\u001b[38;5;241m.\u001b[39mdownload(url)\n\u001b[1;32m     20\u001b[0m \u001b[38;5;28mprint\u001b[39m(res)\n",
      "\u001b[0;31mNameError\u001b[0m: name 'yt_dlp' is not defined"
     ]
    }
   ],
   "source": [
    "def download_mp3(url):\n",
    "        curr_dir = os.getcwd()\n",
    "        output_dir = os.path.join(curr_dir,\"tmp\")\n",
    "        ydl_opts = {\n",
    "            'format': 'bestaudio/best',\n",
    "            'outtmpl': os.path.join(output_dir,'test.%(ext)s'),\n",
    "            'postprocessors': [{\n",
    "                'key': 'FFmpegExtractAudio',\n",
    "                'preferredcodec': 'mp3'\n",
    "            }],\n",
    "            # \"cookiefile\": os.path.join(curr_dir,\"cookies.txt\")\n",
    "            \n",
    "        }\n",
    "\n",
    "        with yt_dlp.YoutubeDL(ydl_opts) as ydl:\n",
    "            res = ydl.download(url)\n",
    "        print(res)\n",
    "        return os.path.join(output_dir,'test.mp3')\n",
    "\n",
    "url = \"https://www.youtube.com/watch?v=00x0S4jhsPo\"\n",
    "downloaded_dir = download_mp3_v2(url)"
   ]
  }
 ],
 "metadata": {
  "kernelspec": {
   "display_name": "Python 3",
   "language": "python",
   "name": "python3"
  },
  "language_info": {
   "codemirror_mode": {
    "name": "ipython",
    "version": 3
   },
   "file_extension": ".py",
   "mimetype": "text/x-python",
   "name": "python",
   "nbconvert_exporter": "python",
   "pygments_lexer": "ipython3",
   "version": "3.12.5"
  }
 },
 "nbformat": 4,
 "nbformat_minor": 2
}
